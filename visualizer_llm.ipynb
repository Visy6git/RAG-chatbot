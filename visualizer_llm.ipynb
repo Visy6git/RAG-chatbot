{
 "cells": [
  {
   "cell_type": "markdown",
   "id": "0d1687cb",
   "metadata": {},
   "source": [
    "### THIS CODE GENERATES VISUALIZATIONS BASED ON THE GIVEN DATA"
   ]
  },
  {
   "cell_type": "code",
   "execution_count": null,
   "id": "77a1dc28",
   "metadata": {},
   "outputs": [],
   "source": [
    "import google.generativeai as genai\n",
    "import os\n",
    "from dotenv import load_dotenv\n",
    "\n",
    "# Configure the API key\n",
    "genai.configure(api_key=userdata.get('google_api_key'))\n",
    "\n",
    "# Initialize the generative model\n",
    "model = genai.GenerativeModel(model_name=\"gemini-1.5-flash-latest\")\n",
    "\n",
    "# Generate content\n",
    "response = model.generate_content(\"Explain how AI works in a few words\")\n",
    "print(response.text)"
   ]
  }
 ],
 "metadata": {
  "kernelspec": {
   "display_name": ".venv",
   "language": "python",
   "name": "python3"
  },
  "language_info": {
   "name": "python",
   "version": "3.12.3"
  }
 },
 "nbformat": 4,
 "nbformat_minor": 5
}
