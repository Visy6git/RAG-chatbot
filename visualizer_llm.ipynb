{
 "cells": [
  {
   "cell_type": "markdown",
   "id": "0d1687cb",
   "metadata": {},
   "source": [
    "### THIS CODE TESTS GEMINI API CONNECTION"
   ]
  },
  {
   "cell_type": "code",
   "execution_count": 1,
   "id": "77a1dc28",
   "metadata": {},
   "outputs": [
    {
     "name": "stderr",
     "output_type": "stream",
     "text": [
      "/workspaces/RAG-chatbot/.venv/lib/python3.12/site-packages/tqdm/auto.py:21: TqdmWarning: IProgress not found. Please update jupyter and ipywidgets. See https://ipywidgets.readthedocs.io/en/stable/user_install.html\n",
      "  from .autonotebook import tqdm as notebook_tqdm\n",
      "WARNING: All log messages before absl::InitializeLog() is called are written to STDERR\n",
      "E0000 00:00:1758043373.146767   33312 alts_credentials.cc:93] ALTS creds ignored. Not running on GCP and untrusted ALTS is not enabled.\n"
     ]
    },
    {
     "name": "stdout",
     "output_type": "stream",
     "text": [
      "Finding patterns in data to make predictions.\n",
      "\n"
     ]
    }
   ],
   "source": [
    "import google.generativeai as genai\n",
    "import os\n",
    "from dotenv import load_dotenv\n",
    "\n",
    "# Configure the API key\n",
    "genai.configure(api_key=os.environ.get('GOOGLE_API_KEY'))\n",
    "\n",
    "# Initialize the generative model\n",
    "model = genai.GenerativeModel(model_name=\"gemini-1.5-flash-latest\")\n",
    "\n",
    "# Generate content\n",
    "response = model.generate_content(\"Explain how AI works in a few words\")\n",
    "print(response.text)"
   ]
  },
  {
   "cell_type": "markdown",
   "id": "24f12fa5",
   "metadata": {},
   "source": [
    "### This code visualizes the given data using matplotlib and seaborn"
   ]
  },
  {
   "cell_type": "code",
   "execution_count": 2,
   "id": "3701e2e4",
   "metadata": {},
   "outputs": [],
   "source": [
    "def generate_code(user_input):\n",
    "    prompt = f\"\"\"\n",
    "Generate an executable Python script for the given query: {user_input} that:\n",
    "\n",
    "- Imports pandas, seaborn, and matplotlib.pyplot.\n",
    "- Loads the data into a pandas DataFrame.\n",
    "- Creates a bar chart visualizing the data using seaborn.\n",
    "- Adds axis labels and a descriptive title.\n",
    "- Returns only the code, no explanations.\n",
    "\n",
    "Example:\n",
    "import pandas as pd\n",
    "import seaborn as sns\n",
    "import matplotlib.pyplot as plt\n",
    "\n",
    "data = [\n",
    "    {{\"category\": \"Electronics\", \"total_sales\": 120000}},\n",
    "    {{\"category\": \"Clothing\", \"total_sales\": 90000}},\n",
    "    {{\"category\": \"Books\", \"total_sales\": 45000}}\n",
    "]\n",
    "\n",
    "df = pd.DataFrame(data)\n",
    "\n",
    "sns.barplot(data=df, x=\"category\", y=\"total_sales\")\n",
    "plt.xlabel(\"Category\")\n",
    "plt.ylabel(\"Total Sales\")\n",
    "plt.title(\"Total Sales by Category\")\n",
    "plt.show()\n",
    "\"\"\"\n",
    "\n",
    "    # Initialize the generative model\n",
    "    model = genai.GenerativeModel(model_name=\"gemini-1.5-flash-latest\")\n",
    "\n",
    "    # Generate content with the prompt\n",
    "    response = model.generate_content(prompt)\n",
    "\n",
    "    print(response.text)\n",
    "    return response.text\n"
   ]
  },
  {
   "cell_type": "code",
   "execution_count": 3,
   "id": "90018139",
   "metadata": {},
   "outputs": [
    {
     "name": "stdout",
     "output_type": "stream",
     "text": [
      "```python\n",
      "import pandas as pd\n",
      "import seaborn as sns\n",
      "import matplotlib.pyplot as plt\n",
      "\n",
      "data = {\n",
      "    'Make': ['Toyota', 'Honda', 'Ford', 'Chevrolet', 'Nissan'],\n",
      "    'Sales': [15000, 12000, 10000, 9000, 8000]\n",
      "}\n",
      "\n",
      "df = pd.DataFrame(data)\n",
      "\n",
      "sns.barplot(data=df, x='Make', y='Sales')\n",
      "plt.xlabel('Car Make')\n",
      "plt.ylabel('Number of Sales')\n",
      "plt.title('Car Sales by Make')\n",
      "plt.show()\n",
      "```\n",
      "\n"
     ]
    }
   ],
   "source": [
    "user_input = input('Enter your prompt')\n",
    "response = generate_code(user_input)"
   ]
  },
  {
   "cell_type": "code",
   "execution_count": 4,
   "id": "3e500d34",
   "metadata": {},
   "outputs": [],
   "source": [
    "import re\n",
    "\n",
    "def extract_python_code(full_text: str) -> str:\n",
    "    \"\"\"\n",
    "    Extracts the first Python code block (inside ```python ... ```) from the given text.\n",
    "    Returns the code as a string without the triple backticks.\n",
    "    If no Python code block found, returns an empty string.\n",
    "    \"\"\"\n",
    "    pattern = r\"```python\\s*(.*?)```\"\n",
    "    match = re.search(pattern, full_text, re.DOTALL | re.IGNORECASE)\n",
    "    if match:\n",
    "        code = match.group(1).strip()\n",
    "        return code\n",
    "    return \"\""
   ]
  },
  {
   "cell_type": "code",
   "execution_count": 6,
   "id": "ec17b3ac",
   "metadata": {},
   "outputs": [
    {
     "name": "stdout",
     "output_type": "stream",
     "text": [
      "import pandas as pd\n",
      "import seaborn as sns\n",
      "import matplotlib.pyplot as plt\n",
      "\n",
      "data = {\n",
      "    'Make': ['Toyota', 'Honda', 'Ford', 'Chevrolet', 'Nissan'],\n",
      "    'Sales': [15000, 12000, 10000, 9000, 8000]\n",
      "}\n",
      "\n",
      "df = pd.DataFrame(data)\n",
      "\n",
      "sns.barplot(data=df, x='Make', y='Sales')\n",
      "plt.xlabel('Car Make')\n",
      "plt.ylabel('Number of Sales')\n",
      "plt.title('Car Sales by Make')\n",
      "plt.show()\n"
     ]
    }
   ],
   "source": [
    "clean = extract_python_code(response)\n",
    "print(clean)"
   ]
  },
  {
   "cell_type": "code",
   "execution_count": 7,
   "id": "c751e97f",
   "metadata": {},
   "outputs": [],
   "source": [
    "def run_python_code(code_str: str):\n",
    "    \"\"\"\n",
    "    Executes the given Python code string in a controlled environment.\n",
    "\n",
    "    Args:\n",
    "        code_str (str): The Python code to execute.\n",
    "\n",
    "    Returns:\n",
    "        None\n",
    "    \"\"\"\n",
    "    try:\n",
    "        # Create a separate local namespace to avoid polluting globals\n",
    "        local_namespace = {}\n",
    "        exec(code_str, {}, local_namespace)\n",
    "    except Exception as e:\n",
    "        print(f\"Error executing code: {e}\")"
   ]
  },
  {
   "cell_type": "code",
   "execution_count": 9,
   "id": "3c7de601",
   "metadata": {},
   "outputs": [
    {
     "data": {
      "image/png": "[encoded data removed]",
      "text/plain": [
       "<Figure size 640x480 with 1 Axes>"
      ]
     },
     "metadata": {},
     "output_type": "display_data"
    }
   ],
   "source": [
    "run_python_code(clean)"
   ]
  },
  {
   "cell_type": "markdown",
   "id": "4b29b6dc",
   "metadata": {},
   "source": [
    "### Combined code"
   ]
  },
  {
   "cell_type": "code",
   "execution_count": 11,
   "id": "b6bf4045",
   "metadata": {},
   "outputs": [
    {
     "name": "stderr",
     "output_type": "stream",
     "text": [
      "E0000 00:00:1758044289.270583   33312 alts_credentials.cc:93] ALTS creds ignored. Not running on GCP and untrusted ALTS is not enabled.\n"
     ]
    },
    {
     "data": {
      "image/png": "[encoded data removed]",
      "text/plain": [
       "<Figure size 640x480 with 1 Axes>"
      ]
     },
     "metadata": {},
     "output_type": "display_data"
    }
   ],
   "source": [
    "import google.generativeai as genai\n",
    "import os\n",
    "from dotenv import load_dotenv\n",
    "import re\n",
    "load_dotenv()\n",
    "genai.configure(api_key=os.environ.get('GOOGLE_API_KEY'))\n",
    "\n",
    "def generate_code(user_input):\n",
    "    prompt = f\"\"\"\n",
    "Generate an executable Python script for the given query: {user_input} that:\n",
    "\n",
    "- Imports pandas, seaborn, and matplotlib.pyplot.\n",
    "- Loads the data into a pandas DataFrame.\n",
    "- Creates a bar chart visualizing the data using seaborn.\n",
    "- Adds axis labels and a descriptive title.\n",
    "- Returns only the code, no explanations.\n",
    "\n",
    "Example:\n",
    "import pandas as pd\n",
    "import seaborn as sns\n",
    "import matplotlib.pyplot as plt\n",
    "\n",
    "data = [\n",
    "    {{\"category\": \"Electronics\", \"total_sales\": 120000}},\n",
    "    {{\"category\": \"Clothing\", \"total_sales\": 90000}},\n",
    "    {{\"category\": \"Books\", \"total_sales\": 45000}}\n",
    "]\n",
    "\n",
    "df = pd.DataFrame(data)\n",
    "\n",
    "sns.barplot(data=df, x=\"category\", y=\"total_sales\")\n",
    "plt.xlabel(\"Category\")\n",
    "plt.ylabel(\"Total Sales\")\n",
    "plt.title(\"Total Sales by Category\")\n",
    "plt.show()\n",
    "\"\"\"\n",
    "\n",
    "    # Initialize the generative model\n",
    "    model = genai.GenerativeModel(model_name=\"gemini-1.5-flash-latest\")\n",
    "\n",
    "    # Generate content with the prompt\n",
    "    response = model.generate_content(prompt)\n",
    "\n",
    "    def extract_python_code(full_text: str) -> str:\n",
    "        \"\"\"\n",
    "        Extracts the first Python code block (inside ```python ... ```) from the given text.\n",
    "        Returns the code as a string without the triple backticks.\n",
    "        If no Python code block found, returns an empty string.\n",
    "        \"\"\"\n",
    "        pattern = r\"```python\\s*(.*?)```\"\n",
    "        match = re.search(pattern, full_text, re.DOTALL | re.IGNORECASE)\n",
    "        if match:\n",
    "            code = match.group(1).strip()\n",
    "            return code\n",
    "        return \"\"\n",
    "    \n",
    "    def run_python_code(code_str: str):\n",
    "        \"\"\"\n",
    "        Executes the given Python code string in a controlled environment.\n",
    "\n",
    "        Args:\n",
    "            code_str (str): The Python code to execute.\n",
    "\n",
    "        Returns:\n",
    "            None\n",
    "        \"\"\"\n",
    "        try:\n",
    "            # Create a separate local namespace to avoid polluting globals\n",
    "            local_namespace = {}\n",
    "            exec(code_str, {}, local_namespace)\n",
    "        except Exception as e:\n",
    "            print(f\"Error executing code: {e}\")\n",
    "    \n",
    "\n",
    "    \n",
    "    clean = extract_python_code(response.text)\n",
    "    run_python_code(clean)\n",
    "\n",
    "\n",
    "user_input = input('Enter your prompt')\n",
    "response = generate_code(user_input)\n",
    "\n",
    "\n"
   ]
  },
  {
   "cell_type": "code",
   "execution_count": null,
   "id": "45d26ea5",
   "metadata": {},
   "outputs": [],
   "source": []
  }
 ],
 "metadata": {
  "kernelspec": {
   "display_name": ".venv",
   "language": "python",
   "name": "python3"
  },
  "language_info": {
   "codemirror_mode": {
    "name": "ipython",
    "version": 3
   },
   "file_extension": ".py",
   "mimetype": "text/x-python",
   "name": "python",
   "nbconvert_exporter": "python",
   "pygments_lexer": "ipython3",
   "version": "3.12.3"
  }
 },
 "nbformat": 4,
 "nbformat_minor": 5
}
